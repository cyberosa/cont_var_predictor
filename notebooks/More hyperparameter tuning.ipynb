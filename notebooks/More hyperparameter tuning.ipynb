{
 "cells": [
  {
   "cell_type": "markdown",
   "metadata": {},
   "source": [
    "## Comparing RF regressors"
   ]
  },
  {
   "cell_type": "markdown",
   "metadata": {},
   "source": [
    "We decided to dedicate more time to play with hyperparameters and extract some conclusions."
   ]
  },
  {
   "cell_type": "code",
   "execution_count": 1,
   "metadata": {},
   "outputs": [],
   "source": [
    "%matplotlib inline\n",
    "import pandas as pd\n",
    "import numpy as np\n",
    "import matplotlib.pyplot as plt\n",
    "from time import time\n",
    "from sklearn.metrics import accuracy_score,mean_squared_error, r2_score\n",
    "import seaborn as sns\n",
    "from sklearn.model_selection import train_test_split, cross_val_score, RandomizedSearchCV, GridSearchCV\n",
    "from sklearn.ensemble import RandomForestRegressor"
   ]
  },
  {
   "cell_type": "code",
   "execution_count": 2,
   "metadata": {},
   "outputs": [],
   "source": [
    "df = pd.read_pickle(\"training_df\")"
   ]
  },
  {
   "cell_type": "code",
   "execution_count": 3,
   "metadata": {},
   "outputs": [
    {
     "data": {
      "text/html": [
       "<div>\n",
       "<style scoped>\n",
       "    .dataframe tbody tr th:only-of-type {\n",
       "        vertical-align: middle;\n",
       "    }\n",
       "\n",
       "    .dataframe tbody tr th {\n",
       "        vertical-align: top;\n",
       "    }\n",
       "\n",
       "    .dataframe thead th {\n",
       "        text-align: right;\n",
       "    }\n",
       "</style>\n",
       "<table border=\"1\" class=\"dataframe\">\n",
       "  <thead>\n",
       "    <tr style=\"text-align: right;\">\n",
       "      <th></th>\n",
       "      <th>cr</th>\n",
       "      <th>feat_03_syn</th>\n",
       "      <th>feat_04_syn</th>\n",
       "      <th>feat_10_syn</th>\n",
       "      <th>feat_12_syn</th>\n",
       "      <th>feat_13_syn</th>\n",
       "      <th>feat_15_syn</th>\n",
       "      <th>feat_20_syn</th>\n",
       "      <th>feat_24_syn</th>\n",
       "      <th>feat_26_syn</th>\n",
       "      <th>...</th>\n",
       "      <th>feat_11_mm</th>\n",
       "      <th>feat_16_mm</th>\n",
       "      <th>feat_17_mm</th>\n",
       "      <th>feat_21_mm</th>\n",
       "      <th>feat_22_mm</th>\n",
       "      <th>feat_23_mm</th>\n",
       "      <th>feat_30_mm</th>\n",
       "      <th>feat_33_mm</th>\n",
       "      <th>feat_34_mm</th>\n",
       "      <th>feat_41_mm</th>\n",
       "    </tr>\n",
       "  </thead>\n",
       "  <tbody>\n",
       "    <tr>\n",
       "      <th>0</th>\n",
       "      <td>0.818182</td>\n",
       "      <td>0</td>\n",
       "      <td>0</td>\n",
       "      <td>0</td>\n",
       "      <td>0</td>\n",
       "      <td>0</td>\n",
       "      <td>0</td>\n",
       "      <td>0</td>\n",
       "      <td>0</td>\n",
       "      <td>0</td>\n",
       "      <td>...</td>\n",
       "      <td>0.0</td>\n",
       "      <td>0.0</td>\n",
       "      <td>0.000000</td>\n",
       "      <td>0.008475</td>\n",
       "      <td>0.000000</td>\n",
       "      <td>0.009756</td>\n",
       "      <td>0.0</td>\n",
       "      <td>0.000000</td>\n",
       "      <td>0.000000</td>\n",
       "      <td>0.000000</td>\n",
       "    </tr>\n",
       "    <tr>\n",
       "      <th>1</th>\n",
       "      <td>0.755102</td>\n",
       "      <td>0</td>\n",
       "      <td>0</td>\n",
       "      <td>0</td>\n",
       "      <td>0</td>\n",
       "      <td>0</td>\n",
       "      <td>0</td>\n",
       "      <td>0</td>\n",
       "      <td>0</td>\n",
       "      <td>0</td>\n",
       "      <td>...</td>\n",
       "      <td>0.0</td>\n",
       "      <td>0.0</td>\n",
       "      <td>0.000000</td>\n",
       "      <td>0.012712</td>\n",
       "      <td>0.000000</td>\n",
       "      <td>0.014634</td>\n",
       "      <td>0.0</td>\n",
       "      <td>0.000000</td>\n",
       "      <td>0.000000</td>\n",
       "      <td>0.000000</td>\n",
       "    </tr>\n",
       "    <tr>\n",
       "      <th>2</th>\n",
       "      <td>0.257576</td>\n",
       "      <td>0</td>\n",
       "      <td>0</td>\n",
       "      <td>0</td>\n",
       "      <td>0</td>\n",
       "      <td>0</td>\n",
       "      <td>0</td>\n",
       "      <td>0</td>\n",
       "      <td>0</td>\n",
       "      <td>0</td>\n",
       "      <td>...</td>\n",
       "      <td>0.0</td>\n",
       "      <td>0.0</td>\n",
       "      <td>0.000000</td>\n",
       "      <td>0.055085</td>\n",
       "      <td>0.044776</td>\n",
       "      <td>0.039024</td>\n",
       "      <td>0.0</td>\n",
       "      <td>0.000000</td>\n",
       "      <td>0.000000</td>\n",
       "      <td>0.000000</td>\n",
       "    </tr>\n",
       "    <tr>\n",
       "      <th>3</th>\n",
       "      <td>0.381818</td>\n",
       "      <td>0</td>\n",
       "      <td>0</td>\n",
       "      <td>0</td>\n",
       "      <td>0</td>\n",
       "      <td>0</td>\n",
       "      <td>0</td>\n",
       "      <td>0</td>\n",
       "      <td>0</td>\n",
       "      <td>0</td>\n",
       "      <td>...</td>\n",
       "      <td>0.0</td>\n",
       "      <td>0.0</td>\n",
       "      <td>0.000000</td>\n",
       "      <td>0.029661</td>\n",
       "      <td>0.014925</td>\n",
       "      <td>0.024390</td>\n",
       "      <td>0.0</td>\n",
       "      <td>0.009524</td>\n",
       "      <td>0.010417</td>\n",
       "      <td>0.007407</td>\n",
       "    </tr>\n",
       "    <tr>\n",
       "      <th>4</th>\n",
       "      <td>0.870968</td>\n",
       "      <td>0</td>\n",
       "      <td>0</td>\n",
       "      <td>0</td>\n",
       "      <td>0</td>\n",
       "      <td>0</td>\n",
       "      <td>0</td>\n",
       "      <td>0</td>\n",
       "      <td>0</td>\n",
       "      <td>0</td>\n",
       "      <td>...</td>\n",
       "      <td>0.0</td>\n",
       "      <td>0.0</td>\n",
       "      <td>0.007407</td>\n",
       "      <td>0.025424</td>\n",
       "      <td>0.000000</td>\n",
       "      <td>0.019512</td>\n",
       "      <td>0.0</td>\n",
       "      <td>0.000000</td>\n",
       "      <td>0.000000</td>\n",
       "      <td>0.000000</td>\n",
       "    </tr>\n",
       "  </tbody>\n",
       "</table>\n",
       "<p>5 rows × 29 columns</p>\n",
       "</div>"
      ],
      "text/plain": [
       "         cr  feat_03_syn  feat_04_syn  feat_10_syn  feat_12_syn  feat_13_syn  \\\n",
       "0  0.818182            0            0            0            0            0   \n",
       "1  0.755102            0            0            0            0            0   \n",
       "2  0.257576            0            0            0            0            0   \n",
       "3  0.381818            0            0            0            0            0   \n",
       "4  0.870968            0            0            0            0            0   \n",
       "\n",
       "   feat_15_syn  feat_20_syn  feat_24_syn  feat_26_syn  ...  feat_11_mm  \\\n",
       "0            0            0            0            0  ...         0.0   \n",
       "1            0            0            0            0  ...         0.0   \n",
       "2            0            0            0            0  ...         0.0   \n",
       "3            0            0            0            0  ...         0.0   \n",
       "4            0            0            0            0  ...         0.0   \n",
       "\n",
       "   feat_16_mm  feat_17_mm  feat_21_mm  feat_22_mm  feat_23_mm  feat_30_mm  \\\n",
       "0         0.0    0.000000    0.008475    0.000000    0.009756         0.0   \n",
       "1         0.0    0.000000    0.012712    0.000000    0.014634         0.0   \n",
       "2         0.0    0.000000    0.055085    0.044776    0.039024         0.0   \n",
       "3         0.0    0.000000    0.029661    0.014925    0.024390         0.0   \n",
       "4         0.0    0.007407    0.025424    0.000000    0.019512         0.0   \n",
       "\n",
       "   feat_33_mm  feat_34_mm  feat_41_mm  \n",
       "0    0.000000    0.000000    0.000000  \n",
       "1    0.000000    0.000000    0.000000  \n",
       "2    0.000000    0.000000    0.000000  \n",
       "3    0.009524    0.010417    0.007407  \n",
       "4    0.000000    0.000000    0.000000  \n",
       "\n",
       "[5 rows x 29 columns]"
      ]
     },
     "execution_count": 3,
     "metadata": {},
     "output_type": "execute_result"
    }
   ],
   "source": [
    "df.head()"
   ]
  },
  {
   "cell_type": "code",
   "execution_count": 4,
   "metadata": {},
   "outputs": [
    {
     "data": {
      "text/plain": [
       "Index(['cr', 'feat_03_syn', 'feat_04_syn', 'feat_10_syn', 'feat_12_syn',\n",
       "       'feat_13_syn', 'feat_15_syn', 'feat_20_syn', 'feat_24_syn',\n",
       "       'feat_26_syn', 'feat_27_syn', 'feat_35_syn', 'feat_37_syn',\n",
       "       'feat_44_syn', 'feat_02_mm', 'feat_06_mm', 'feat_07_mm', 'feat_08_mm',\n",
       "       'feat_09_mm', 'feat_11_mm', 'feat_16_mm', 'feat_17_mm', 'feat_21_mm',\n",
       "       'feat_22_mm', 'feat_23_mm', 'feat_30_mm', 'feat_33_mm', 'feat_34_mm',\n",
       "       'feat_41_mm'],\n",
       "      dtype='object')"
      ]
     },
     "execution_count": 4,
     "metadata": {},
     "output_type": "execute_result"
    }
   ],
   "source": [
    "df.columns"
   ]
  },
  {
   "cell_type": "markdown",
   "metadata": {},
   "source": [
    "## Train-Test"
   ]
  },
  {
   "cell_type": "code",
   "execution_count": 5,
   "metadata": {},
   "outputs": [],
   "source": [
    "X = df.drop(['cr'], axis=1)\n",
    "y = df['cr']  # Labels"
   ]
  },
  {
   "cell_type": "code",
   "execution_count": 6,
   "metadata": {},
   "outputs": [],
   "source": [
    "X_train, X_test, y_train, y_test = train_test_split(X, y, test_size=0.3) # 70% training and 30% test"
   ]
  },
  {
   "cell_type": "code",
   "execution_count": 7,
   "metadata": {},
   "outputs": [
    {
     "name": "stdout",
     "output_type": "stream",
     "text": [
      "Dimensions of datasets that will be used for training : Input features(721898, 28) Output label(721898,)\n",
      "Dimensions of datasets that will be used for testing : Input features(309386, 28) Output label(309386,)\n"
     ]
    }
   ],
   "source": [
    "print(\"Dimensions of datasets that will be used for training : Input features\"+str(X_train.shape)+ \n",
    "      \" Output label\" + str(y_train.shape))\n",
    "print(\"Dimensions of datasets that will be used for testing : Input features\"+str(X_test.shape)+ \n",
    "      \" Output label\" + str(y_test.shape))"
   ]
  },
  {
   "cell_type": "markdown",
   "metadata": {},
   "source": [
    "## Evaluation tools and metrics"
   ]
  },
  {
   "cell_type": "code",
   "execution_count": 8,
   "metadata": {},
   "outputs": [],
   "source": [
    "def fit(model, X_train, y_train):\n",
    "    start = time()\n",
    "    model.fit(X_train, y_train)\n",
    "    end = time()\n",
    "    result = end - start\n",
    "    print('Training time = %.3f seconds' % result)\n",
    "    #  The default score for RandomForestRegressor is R2\n",
    "    score = model.score(X_train, y_train)\n",
    "    print(\"R-squared:\", score)\n",
    "    return model"
   ]
  },
  {
   "cell_type": "code",
   "execution_count": 9,
   "metadata": {},
   "outputs": [],
   "source": [
    "def two_d_compare(X_test,y_test,y_pred,model_name):\n",
    "    area = (12 * np.random.rand(40))**2 \n",
    "    plt.subplots(ncols=2, figsize=(10,4))\n",
    "    plt.suptitle('Actual vs Predicted data : ' +model_name + '. Variance score: %.2f' % r2_score(y_test, y_pred))\n",
    "\n",
    "    plt.subplot(121)\n",
    "    plt.scatter(X_test, y_test, alpha=0.8, color='#8CCB9B')\n",
    "    plt.title('Actual')\n",
    "\n",
    "    plt.subplot(122)\n",
    "    plt.scatter(X_test, y_pred,alpha=0.8, color='#E5E88B')\n",
    "    plt.title('Predicted')\n",
    "\n",
    "    plt.show()\n",
    "    \n",
    "\n",
    "def model_metrics(regressor,y_test,y_pred):\n",
    "    mse = mean_squared_error(y_test,y_pred)\n",
    "    print(\"Mean squared error: %.2f\"\n",
    "      % mse)\n",
    "    r2 = r2_score(y_test, y_pred)\n",
    "    print('R2 score: %.2f' % r2 )\n",
    "    return [mse, r2]"
   ]
  },
  {
   "cell_type": "markdown",
   "metadata": {},
   "source": [
    "## RandomForestRegressor"
   ]
  },
  {
   "cell_type": "markdown",
   "metadata": {},
   "source": [
    "### Gridsearch Iteration 1"
   ]
  },
  {
   "cell_type": "code",
   "execution_count": 12,
   "metadata": {},
   "outputs": [
    {
     "name": "stdout",
     "output_type": "stream",
     "text": [
      "Training time = 76.409 seconds\n",
      "R-squared: 0.09397386095758542\n"
     ]
    }
   ],
   "source": [
    "final_model = RandomForestRegressor(n_estimators= 100,\n",
    " max_depth= 6,\n",
    " n_jobs=-1)\n",
    "bm = fit(final_model, X_train, y_train)"
   ]
  },
  {
   "cell_type": "markdown",
   "metadata": {},
   "source": [
    "### Gridsearch Iteration 2"
   ]
  },
  {
   "cell_type": "code",
   "execution_count": 10,
   "metadata": {},
   "outputs": [],
   "source": [
    " param_grid = {\n",
    "    'max_depth': [6, 7, 8],\n",
    "    'n_estimators':  [50, 100, 1000],\n",
    "    'max_features': ['auto', 'sqrt']\n",
    "}"
   ]
  },
  {
   "cell_type": "code",
   "execution_count": 11,
   "metadata": {},
   "outputs": [
    {
     "name": "stdout",
     "output_type": "stream",
     "text": [
      "Fitting 3 folds for each of 18 candidates, totalling 54 fits\n"
     ]
    },
    {
     "name": "stderr",
     "output_type": "stream",
     "text": [
      "[Parallel(n_jobs=-1)]: Using backend LokyBackend with 8 concurrent workers.\n",
      "[Parallel(n_jobs=-1)]: Done  25 tasks      | elapsed: 23.0min\n",
      "[Parallel(n_jobs=-1)]: Done  54 out of  54 | elapsed: 181.6min finished\n"
     ]
    },
    {
     "data": {
      "text/plain": [
       "{'max_depth': 8, 'max_features': 'auto', 'n_estimators': 1000}"
      ]
     },
     "execution_count": 11,
     "metadata": {},
     "output_type": "execute_result"
    }
   ],
   "source": [
    "# Create a based model\n",
    "rf = RandomForestRegressor(random_state=42) # scoring default=”mse”\n",
    "grid_search = GridSearchCV(estimator = rf, param_grid = param_grid, \n",
    "                          cv = 3, n_jobs = -1, verbose = 2)\n",
    "grid_search.fit(X_train, y_train)\n",
    "grid_search.best_params_"
   ]
  },
  {
   "cell_type": "code",
   "execution_count": 12,
   "metadata": {},
   "outputs": [
    {
     "name": "stdout",
     "output_type": "stream",
     "text": [
      "Training time = 741.914 seconds\n"
     ]
    }
   ],
   "source": [
    "rf_model = RandomForestRegressor(n_estimators= 1000,max_depth= 8,n_jobs=-1, max_features='auto')\n",
    "start = time()\n",
    "rf_model.fit(X_train, y_train)\n",
    "end = time()\n",
    "result = end - start\n",
    "print('Training time = %.3f seconds' % result)"
   ]
  },
  {
   "cell_type": "code",
   "execution_count": 13,
   "metadata": {},
   "outputs": [
    {
     "name": "stdout",
     "output_type": "stream",
     "text": [
      "Mean squared error: 0.04\n",
      "R2 score: 0.10\n"
     ]
    }
   ],
   "source": [
    "y_pred_rf = rf_model.predict(X_test)\n",
    "rfMetrics_d8 = model_metrics(rf_model,y_test,y_pred_rf)"
   ]
  },
  {
   "cell_type": "code",
   "execution_count": 14,
   "metadata": {},
   "outputs": [],
   "source": [
    "rfMetrics_d6 = [0.05, 0.093875]"
   ]
  },
  {
   "cell_type": "code",
   "execution_count": 15,
   "metadata": {},
   "outputs": [
    {
     "data": {
      "image/png": "[encoded data removed]",
      "text/plain": [
       "<Figure size 720x288 with 2 Axes>"
      ]
     },
     "metadata": {
      "needs_background": "light"
     },
     "output_type": "display_data"
    }
   ],
   "source": [
    "two_d_compare(X_test['feat_02_mm'], y_test, y_pred_rf, \"RandomForestResgressor d8\")"
   ]
  },
  {
   "cell_type": "markdown",
   "metadata": {},
   "source": [
    "### RandomizedSearch Iteration 1"
   ]
  },
  {
   "cell_type": "code",
   "execution_count": 15,
   "metadata": {},
   "outputs": [],
   "source": [
    "# Number of trees in random forest\n",
    "n_estimators = [1000, 1200]\n",
    "# Number of features to consider at every split\n",
    "max_features = ['auto', 'sqrt']\n",
    "# Maximum number of levels in tree\n",
    "max_depth = [6, 8, 10, 11]\n",
    "# Method of selecting samples for training each tree\n",
    "bootstrap = [True, False]"
   ]
  },
  {
   "cell_type": "code",
   "execution_count": 16,
   "metadata": {},
   "outputs": [],
   "source": [
    "# Create the random grid\n",
    "random_grid = {'n_estimators': n_estimators,\n",
    "               'max_features': max_features,\n",
    "               'max_depth': max_depth,\n",
    "               'bootstrap': bootstrap}"
   ]
  },
  {
   "cell_type": "code",
   "execution_count": 17,
   "metadata": {},
   "outputs": [],
   "source": [
    "rf = RandomForestRegressor(random_state=42) # scoring default=”mse”"
   ]
  },
  {
   "cell_type": "code",
   "execution_count": 18,
   "metadata": {
    "scrolled": true
   },
   "outputs": [
    {
     "name": "stdout",
     "output_type": "stream",
     "text": [
      "Fitting 3 folds for each of 10 candidates, totalling 30 fits\n"
     ]
    },
    {
     "name": "stderr",
     "output_type": "stream",
     "text": [
      "[Parallel(n_jobs=-1)]: Using backend LokyBackend with 8 concurrent workers.\n",
      "[Parallel(n_jobs=-1)]: Done  30 out of  30 | elapsed: 335.9min finished\n"
     ]
    },
    {
     "name": "stdout",
     "output_type": "stream",
     "text": [
      "Training time = 22258.713 seconds\n"
     ]
    }
   ],
   "source": [
    "# Random search of parameters, using 3 fold cross validation, \n",
    "# search across 10 different combinations, and use all available cores\n",
    "rf_random = RandomizedSearchCV(estimator = rf, param_distributions = random_grid, n_iter = 10, cv = 3, verbose=2, random_state=42, n_jobs = -1)\n",
    "# let´s try first with the resample dataset\n",
    "start = time()\n",
    "rf_random.fit(X_train, y_train)\n",
    "end = time()\n",
    "result = end - start\n",
    "print('Training time = %.3f seconds' % result)"
   ]
  },
  {
   "cell_type": "code",
   "execution_count": 19,
   "metadata": {},
   "outputs": [
    {
     "data": {
      "text/plain": [
       "{'n_estimators': 1000,\n",
       " 'max_features': 'auto',\n",
       " 'max_depth': 11,\n",
       " 'bootstrap': True}"
      ]
     },
     "execution_count": 19,
     "metadata": {},
     "output_type": "execute_result"
    }
   ],
   "source": [
    "rf_random.best_params_"
   ]
  },
  {
   "cell_type": "code",
   "execution_count": 16,
   "metadata": {},
   "outputs": [
    {
     "name": "stdout",
     "output_type": "stream",
     "text": [
      "Training time = 875.799 seconds\n"
     ]
    }
   ],
   "source": [
    "rf_model2 = RandomForestRegressor(n_estimators= 1000,\n",
    " max_features= 'auto',\n",
    " max_depth= 11,\n",
    " bootstrap= True,\n",
    " n_jobs=-1)\n",
    "start = time()\n",
    "rf_model2.fit(X_train, y_train)\n",
    "end = time()\n",
    "result = end - start\n",
    "print('Training time = %.3f seconds' % result)"
   ]
  },
  {
   "cell_type": "code",
   "execution_count": 18,
   "metadata": {},
   "outputs": [
    {
     "name": "stdout",
     "output_type": "stream",
     "text": [
      "Mean squared error: 0.04\n",
      "R2 score: 0.11\n"
     ]
    }
   ],
   "source": [
    "y_pred_rf2 = rf_model2.predict(X_test)\n",
    "rfMetrics11 = model_metrics(rf_model2,y_test,y_pred_rf2)"
   ]
  },
  {
   "cell_type": "code",
   "execution_count": 19,
   "metadata": {},
   "outputs": [
    {
     "data": {
      "image/png": "[encoded data removed]",
      "text/plain": [
       "<Figure size 720x288 with 2 Axes>"
      ]
     },
     "metadata": {
      "needs_background": "light"
     },
     "output_type": "display_data"
    }
   ],
   "source": [
    "two_d_compare(X_test['feat_02_mm'], y_test, y_pred_rf2, \"RandomForestRegressor d11\")"
   ]
  },
  {
   "cell_type": "code",
   "execution_count": 20,
   "metadata": {},
   "outputs": [
    {
     "data": {
      "text/plain": [
       "['rf_model_d11.joblib']"
      ]
     },
     "execution_count": 20,
     "metadata": {},
     "output_type": "execute_result"
    }
   ],
   "source": [
    "import joblib\n",
    "# save\n",
    "joblib.dump(rf_model2, \"rf_model_d11.joblib\")"
   ]
  },
  {
   "cell_type": "markdown",
   "metadata": {},
   "source": [
    "## Increasing tree depth"
   ]
  },
  {
   "cell_type": "code",
   "execution_count": 21,
   "metadata": {},
   "outputs": [
    {
     "name": "stdout",
     "output_type": "stream",
     "text": [
      "Training time = 977.671 seconds\n"
     ]
    }
   ],
   "source": [
    "rf_model3 = RandomForestRegressor(n_estimators= 1000,\n",
    " max_features= 'auto',\n",
    " max_depth= 13,\n",
    " bootstrap= True,\n",
    " n_jobs=-1)\n",
    "start = time()\n",
    "rf_model3.fit(X_train, y_train)\n",
    "end = time()\n",
    "result = end - start\n",
    "print('Training time = %.3f seconds' % result)"
   ]
  },
  {
   "cell_type": "code",
   "execution_count": 22,
   "metadata": {},
   "outputs": [
    {
     "name": "stdout",
     "output_type": "stream",
     "text": [
      "Mean squared error: 0.04\n",
      "R2 score: 0.12\n"
     ]
    }
   ],
   "source": [
    "y_pred_rf3 = rf_model3.predict(X_test)\n",
    "rfMetrics_d13 = model_metrics(rf_model3,y_test,y_pred_rf3)"
   ]
  },
  {
   "cell_type": "code",
   "execution_count": 23,
   "metadata": {},
   "outputs": [
    {
     "data": {
      "image/png": "[encoded data removed]",
      "text/plain": [
       "<Figure size 720x288 with 2 Axes>"
      ]
     },
     "metadata": {
      "needs_background": "light"
     },
     "output_type": "display_data"
    }
   ],
   "source": [
    "two_d_compare(X_test['feat_02_mm'], y_test, y_pred_rf3, \"RandomForestRegressor d13\")"
   ]
  },
  {
   "cell_type": "code",
   "execution_count": 24,
   "metadata": {},
   "outputs": [
    {
     "data": {
      "text/plain": [
       "['rf_model_d13.joblib']"
      ]
     },
     "execution_count": 24,
     "metadata": {},
     "output_type": "execute_result"
    }
   ],
   "source": [
    "joblib.dump(rf_model3, \"rf_model_d13.joblib\")"
   ]
  },
  {
   "cell_type": "code",
   "execution_count": 25,
   "metadata": {},
   "outputs": [
    {
     "name": "stdout",
     "output_type": "stream",
     "text": [
      "Training time = 1230.958 seconds\n"
     ]
    }
   ],
   "source": [
    "rf_model4 = RandomForestRegressor(n_estimators= 1000,\n",
    " max_features= 'auto',\n",
    " max_depth= 20,\n",
    " bootstrap= True,\n",
    " n_jobs=-1)\n",
    "start = time()\n",
    "rf_model4.fit(X_train, y_train)\n",
    "end = time()\n",
    "result = end - start\n",
    "print('Training time = %.3f seconds' % result)"
   ]
  },
  {
   "cell_type": "code",
   "execution_count": 26,
   "metadata": {},
   "outputs": [
    {
     "name": "stdout",
     "output_type": "stream",
     "text": [
      "Mean squared error: 0.04\n",
      "R2 score: 0.12\n"
     ]
    }
   ],
   "source": [
    "y_pred_rf4 = rf_model4.predict(X_test)\n",
    "rfMetrics_d20 = model_metrics(rf_model4,y_test,y_pred_rf4)"
   ]
  },
  {
   "cell_type": "code",
   "execution_count": 27,
   "metadata": {},
   "outputs": [
    {
     "data": {
      "image/png": "[encoded data removed]",
      "text/plain": [
       "<Figure size 720x288 with 2 Axes>"
      ]
     },
     "metadata": {
      "needs_background": "light"
     },
     "output_type": "display_data"
    }
   ],
   "source": [
    "two_d_compare(X_test['feat_02_mm'], y_test, y_pred_rf4, \"RandomForestRegressor d20\")"
   ]
  },
  {
   "cell_type": "code",
   "execution_count": 28,
   "metadata": {},
   "outputs": [
    {
     "data": {
      "text/plain": [
       "['rf_model_d20.joblib']"
      ]
     },
     "execution_count": 28,
     "metadata": {},
     "output_type": "execute_result"
    }
   ],
   "source": [
    "joblib.dump(rf_model4, \"rf_model_d20.joblib\")"
   ]
  },
  {
   "cell_type": "markdown",
   "metadata": {},
   "source": [
    "# Comparison graph"
   ]
  },
  {
   "cell_type": "code",
   "execution_count": 31,
   "metadata": {},
   "outputs": [
    {
     "data": {
      "image/png": "[encoded data removed]",
      "text/plain": [
       "<Figure size 864x648 with 2 Axes>"
      ]
     },
     "metadata": {
      "needs_background": "light"
     },
     "output_type": "display_data"
    }
   ],
   "source": [
    "n_groups = 1\n",
    "index = np.arange(n_groups)\n",
    "bar_width = 1\n",
    "opacity = 0.8\n",
    "\n",
    "\n",
    "area = 60\n",
    "# First subplot\n",
    "ax = plt.subplots(ncols=2, figsize=(12,9))\n",
    "plt.suptitle('Model performance comparison')\n",
    "\n",
    "plt.subplot(121)\n",
    "index = np.arange(n_groups)\n",
    "bar_width = 1\n",
    "opacity = 0.8\n",
    "\n",
    "rects1 = plt.bar(index, rfMetrics_d6[0], bar_width,\n",
    "alpha=opacity,\n",
    "color='purple',\n",
    "label='Random Forest Regression deep 6')\n",
    "\n",
    "rects2 = plt.bar(index + bar_width, rfMetrics_d8[0], bar_width,\n",
    "alpha=opacity,\n",
    "color='y',\n",
    "label='Random Forest Regression deep 8')\n",
    "\n",
    "rects3 = plt.bar(index + bar_width*2, rfMetrics11[0], bar_width,\n",
    "alpha=opacity,\n",
    "color='lightblue',\n",
    "label='Random Forest Regression deep 11')\n",
    "\n",
    "rects4 = plt.bar(index + bar_width*3, rfMetrics_d13[0], bar_width,\n",
    "alpha=opacity,\n",
    "color='grey',\n",
    "label='Random Forest Regression deep 13')\n",
    "\n",
    "rects5 = plt.bar(index + bar_width*4, rfMetrics_d20[0], bar_width,\n",
    "alpha=opacity,\n",
    "color='orange',\n",
    "label='Random Forest Regression deep 20')\n",
    "\n",
    "plt.xlabel('Models')\n",
    "plt.ylabel('MSE')\n",
    "plt.title('Mean Square Error comparison.')\n",
    "\n",
    "plt.subplot(122)\n",
    "\n",
    "rects1 = plt.bar(index, rfMetrics_d6[1], bar_width,\n",
    "alpha=opacity,\n",
    "color='purple',\n",
    "label='Random Forest Regression deep 6')\n",
    "\n",
    "rects2 = plt.bar(index + bar_width, rfMetrics_d8[1], bar_width,\n",
    "alpha=opacity,\n",
    "color='y',\n",
    "label='Random Forest Regression deep 8')\n",
    "\n",
    "rects3 = plt.bar(index + bar_width*2, rfMetrics11[1], bar_width,\n",
    "alpha=opacity,\n",
    "color='lightblue',\n",
    "label='Random Forest Regression deep 11')\n",
    "\n",
    "\n",
    "rects4 = plt.bar(index + bar_width*3, rfMetrics_d13[1], bar_width,\n",
    "alpha=opacity,\n",
    "color='grey',\n",
    "label='Random Forest Regression deep 13')\n",
    "\n",
    "rects5 = plt.bar(index + bar_width*4, rfMetrics_d20[1], bar_width,\n",
    "alpha=opacity,\n",
    "color='orange',\n",
    "label='Random Forest Regression deep 20')\n",
    "\n",
    "plt.xlabel('Models')\n",
    "plt.ylabel('R2')\n",
    "plt.title('R2 comparison.')\n",
    "\n",
    "plt.legend()\n",
    "plt.show()"
   ]
  },
  {
   "cell_type": "markdown",
   "metadata": {},
   "source": [
    "## Conclusion"
   ]
  },
  {
   "cell_type": "markdown",
   "metadata": {},
   "source": [
    "We have researched a bit deeper the different possibilities with a RandomForestRegressor. By increasing the tree depth and the number of estimators we were able to predict a wider range of completion rate values (higher than 0.6). We select the model with 1000 estimators and a depth of 13 as our candidate for the prediction tool."
   ]
  },
  {
   "cell_type": "code",
   "execution_count": null,
   "metadata": {},
   "outputs": [],
   "source": []
  }
 ],
 "metadata": {
  "kernelspec": {
   "display_name": "Python 3",
   "language": "python",
   "name": "python3"
  },
  "language_info": {
   "codemirror_mode": {
    "name": "ipython",
    "version": 3
   },
   "file_extension": ".py",
   "mimetype": "text/x-python",
   "name": "python",
   "nbconvert_exporter": "python",
   "pygments_lexer": "ipython3",
   "version": "3.7.7"
  }
 },
 "nbformat": 4,
 "nbformat_minor": 2
}
