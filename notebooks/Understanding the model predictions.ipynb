{
 "cells": [
  {
   "cell_type": "code",
   "execution_count": 1,
   "metadata": {},
   "outputs": [],
   "source": [
    "import pandas as pd\n",
    "df = pd.read_pickle(\"../data/training_df\")"
   ]
  },
  {
   "cell_type": "code",
   "execution_count": 2,
   "metadata": {},
   "outputs": [
    {
     "data": {
      "text/html": [
       "<div>\n",
       "<style scoped>\n",
       "    .dataframe tbody tr th:only-of-type {\n",
       "        vertical-align: middle;\n",
       "    }\n",
       "\n",
       "    .dataframe tbody tr th {\n",
       "        vertical-align: top;\n",
       "    }\n",
       "\n",
       "    .dataframe thead th {\n",
       "        text-align: right;\n",
       "    }\n",
       "</style>\n",
       "<table border=\"1\" class=\"dataframe\">\n",
       "  <thead>\n",
       "    <tr style=\"text-align: right;\">\n",
       "      <th></th>\n",
       "      <th>cr</th>\n",
       "      <th>feat_03_syn</th>\n",
       "      <th>feat_04_syn</th>\n",
       "      <th>feat_10_syn</th>\n",
       "      <th>feat_12_syn</th>\n",
       "      <th>feat_13_syn</th>\n",
       "      <th>feat_15_syn</th>\n",
       "      <th>feat_20_syn</th>\n",
       "      <th>feat_24_syn</th>\n",
       "      <th>feat_26_syn</th>\n",
       "      <th>...</th>\n",
       "      <th>feat_11_mm</th>\n",
       "      <th>feat_16_mm</th>\n",
       "      <th>feat_17_mm</th>\n",
       "      <th>feat_21_mm</th>\n",
       "      <th>feat_22_mm</th>\n",
       "      <th>feat_23_mm</th>\n",
       "      <th>feat_30_mm</th>\n",
       "      <th>feat_33_mm</th>\n",
       "      <th>feat_34_mm</th>\n",
       "      <th>feat_41_mm</th>\n",
       "    </tr>\n",
       "  </thead>\n",
       "  <tbody>\n",
       "    <tr>\n",
       "      <th>0</th>\n",
       "      <td>0.818182</td>\n",
       "      <td>0</td>\n",
       "      <td>0</td>\n",
       "      <td>0</td>\n",
       "      <td>0</td>\n",
       "      <td>0</td>\n",
       "      <td>0</td>\n",
       "      <td>0</td>\n",
       "      <td>0</td>\n",
       "      <td>0</td>\n",
       "      <td>...</td>\n",
       "      <td>0.0</td>\n",
       "      <td>0.0</td>\n",
       "      <td>0.000000</td>\n",
       "      <td>0.008475</td>\n",
       "      <td>0.000000</td>\n",
       "      <td>0.009756</td>\n",
       "      <td>0.0</td>\n",
       "      <td>0.000000</td>\n",
       "      <td>0.000000</td>\n",
       "      <td>0.000000</td>\n",
       "    </tr>\n",
       "    <tr>\n",
       "      <th>1</th>\n",
       "      <td>0.755102</td>\n",
       "      <td>0</td>\n",
       "      <td>0</td>\n",
       "      <td>0</td>\n",
       "      <td>0</td>\n",
       "      <td>0</td>\n",
       "      <td>0</td>\n",
       "      <td>0</td>\n",
       "      <td>0</td>\n",
       "      <td>0</td>\n",
       "      <td>...</td>\n",
       "      <td>0.0</td>\n",
       "      <td>0.0</td>\n",
       "      <td>0.000000</td>\n",
       "      <td>0.012712</td>\n",
       "      <td>0.000000</td>\n",
       "      <td>0.014634</td>\n",
       "      <td>0.0</td>\n",
       "      <td>0.000000</td>\n",
       "      <td>0.000000</td>\n",
       "      <td>0.000000</td>\n",
       "    </tr>\n",
       "    <tr>\n",
       "      <th>2</th>\n",
       "      <td>0.257576</td>\n",
       "      <td>0</td>\n",
       "      <td>0</td>\n",
       "      <td>0</td>\n",
       "      <td>0</td>\n",
       "      <td>0</td>\n",
       "      <td>0</td>\n",
       "      <td>0</td>\n",
       "      <td>0</td>\n",
       "      <td>0</td>\n",
       "      <td>...</td>\n",
       "      <td>0.0</td>\n",
       "      <td>0.0</td>\n",
       "      <td>0.000000</td>\n",
       "      <td>0.055085</td>\n",
       "      <td>0.044776</td>\n",
       "      <td>0.039024</td>\n",
       "      <td>0.0</td>\n",
       "      <td>0.000000</td>\n",
       "      <td>0.000000</td>\n",
       "      <td>0.000000</td>\n",
       "    </tr>\n",
       "    <tr>\n",
       "      <th>3</th>\n",
       "      <td>0.381818</td>\n",
       "      <td>0</td>\n",
       "      <td>0</td>\n",
       "      <td>0</td>\n",
       "      <td>0</td>\n",
       "      <td>0</td>\n",
       "      <td>0</td>\n",
       "      <td>0</td>\n",
       "      <td>0</td>\n",
       "      <td>0</td>\n",
       "      <td>...</td>\n",
       "      <td>0.0</td>\n",
       "      <td>0.0</td>\n",
       "      <td>0.000000</td>\n",
       "      <td>0.029661</td>\n",
       "      <td>0.014925</td>\n",
       "      <td>0.024390</td>\n",
       "      <td>0.0</td>\n",
       "      <td>0.009524</td>\n",
       "      <td>0.010417</td>\n",
       "      <td>0.007407</td>\n",
       "    </tr>\n",
       "    <tr>\n",
       "      <th>4</th>\n",
       "      <td>0.870968</td>\n",
       "      <td>0</td>\n",
       "      <td>0</td>\n",
       "      <td>0</td>\n",
       "      <td>0</td>\n",
       "      <td>0</td>\n",
       "      <td>0</td>\n",
       "      <td>0</td>\n",
       "      <td>0</td>\n",
       "      <td>0</td>\n",
       "      <td>...</td>\n",
       "      <td>0.0</td>\n",
       "      <td>0.0</td>\n",
       "      <td>0.007407</td>\n",
       "      <td>0.025424</td>\n",
       "      <td>0.000000</td>\n",
       "      <td>0.019512</td>\n",
       "      <td>0.0</td>\n",
       "      <td>0.000000</td>\n",
       "      <td>0.000000</td>\n",
       "      <td>0.000000</td>\n",
       "    </tr>\n",
       "  </tbody>\n",
       "</table>\n",
       "<p>5 rows × 29 columns</p>\n",
       "</div>"
      ],
      "text/plain": [
       "         cr  feat_03_syn  feat_04_syn  feat_10_syn  feat_12_syn  feat_13_syn  \\\n",
       "0  0.818182            0            0            0            0            0   \n",
       "1  0.755102            0            0            0            0            0   \n",
       "2  0.257576            0            0            0            0            0   \n",
       "3  0.381818            0            0            0            0            0   \n",
       "4  0.870968            0            0            0            0            0   \n",
       "\n",
       "   feat_15_syn  feat_20_syn  feat_24_syn  feat_26_syn  ...  feat_11_mm  \\\n",
       "0            0            0            0            0  ...         0.0   \n",
       "1            0            0            0            0  ...         0.0   \n",
       "2            0            0            0            0  ...         0.0   \n",
       "3            0            0            0            0  ...         0.0   \n",
       "4            0            0            0            0  ...         0.0   \n",
       "\n",
       "   feat_16_mm  feat_17_mm  feat_21_mm  feat_22_mm  feat_23_mm  feat_30_mm  \\\n",
       "0         0.0    0.000000    0.008475    0.000000    0.009756         0.0   \n",
       "1         0.0    0.000000    0.012712    0.000000    0.014634         0.0   \n",
       "2         0.0    0.000000    0.055085    0.044776    0.039024         0.0   \n",
       "3         0.0    0.000000    0.029661    0.014925    0.024390         0.0   \n",
       "4         0.0    0.007407    0.025424    0.000000    0.019512         0.0   \n",
       "\n",
       "   feat_33_mm  feat_34_mm  feat_41_mm  \n",
       "0    0.000000    0.000000    0.000000  \n",
       "1    0.000000    0.000000    0.000000  \n",
       "2    0.000000    0.000000    0.000000  \n",
       "3    0.009524    0.010417    0.007407  \n",
       "4    0.000000    0.000000    0.000000  \n",
       "\n",
       "[5 rows x 29 columns]"
      ]
     },
     "execution_count": 2,
     "metadata": {},
     "output_type": "execute_result"
    }
   ],
   "source": [
    "df.head()"
   ]
  },
  {
   "cell_type": "code",
   "execution_count": 4,
   "metadata": {},
   "outputs": [],
   "source": [
    "import joblib"
   ]
  },
  {
   "cell_type": "code",
   "execution_count": 5,
   "metadata": {},
   "outputs": [
    {
     "name": "stderr",
     "output_type": "stream",
     "text": [
      "C:\\Users\\ARosa\\Miniconda3\\lib\\site-packages\\sklearn\\base.py:315: UserWarning: Trying to unpickle estimator DecisionTreeRegressor from version 0.23.2 when using version 0.24.1. This might lead to breaking code or invalid results. Use at your own risk.\n",
      "  UserWarning)\n",
      "C:\\Users\\ARosa\\Miniconda3\\lib\\site-packages\\sklearn\\base.py:315: UserWarning: Trying to unpickle estimator RandomForestRegressor from version 0.23.2 when using version 0.24.1. This might lead to breaking code or invalid results. Use at your own risk.\n",
      "  UserWarning)\n"
     ]
    }
   ],
   "source": [
    "model = joblib.load('../models/rf_model_d13.joblib')"
   ]
  },
  {
   "cell_type": "code",
   "execution_count": 6,
   "metadata": {},
   "outputs": [
    {
     "data": {
      "text/plain": [
       "<matplotlib.axes._subplots.AxesSubplot at 0x29766fe0f48>"
      ]
     },
     "execution_count": 6,
     "metadata": {},
     "output_type": "execute_result"
    },
    {
     "data": {
      "image/png": "[encoded data removed]",
      "text/plain": [
       "<Figure size 432x288 with 1 Axes>"
      ]
     },
     "metadata": {},
     "output_type": "display_data"
    }
   ],
   "source": [
    "import seaborn as sns\n",
    "sns.set(style=\"darkgrid\", palette=\"rocket\")\n",
    "sns.distplot(df.cr)"
   ]
  },
  {
   "cell_type": "code",
   "execution_count": 7,
   "metadata": {},
   "outputs": [
    {
     "data": {
      "text/plain": [
       "629663"
      ]
     },
     "execution_count": 7,
     "metadata": {},
     "output_type": "execute_result"
    }
   ],
   "source": [
    "sum(df.cr < 0.60)"
   ]
  },
  {
   "cell_type": "code",
   "execution_count": 8,
   "metadata": {},
   "outputs": [
    {
     "data": {
      "text/plain": [
       "395050"
      ]
     },
     "execution_count": 8,
     "metadata": {},
     "output_type": "execute_result"
    }
   ],
   "source": [
    "sum(df.cr > 0.60)"
   ]
  },
  {
   "cell_type": "code",
   "execution_count": 9,
   "metadata": {},
   "outputs": [
    {
     "data": {
      "text/plain": [
       "array([0.97457629, 0.97669494, 0.97881356, 0.98093221, 0.98175183,\n",
       "       0.98292685, 0.98305085, 0.98516947, 0.98780489, 0.99512196])"
      ]
     },
     "execution_count": 9,
     "metadata": {},
     "output_type": "execute_result"
    }
   ],
   "source": [
    "import numpy as np\n",
    "thres = np.unique([j for i in model.estimators_ for j in i.tree_.threshold])\n",
    "np.sort(thres)[-10:]"
   ]
  },
  {
   "cell_type": "code",
   "execution_count": 10,
   "metadata": {},
   "outputs": [
    {
     "data": {
      "text/plain": [
       "array([0.94703388, 0.94890511, 0.95255476, 0.95550847, 0.95620438,\n",
       "       0.95762712, 0.95974576, 0.96398303, 0.97245765, 0.97445256,\n",
       "       0.97457629, 0.97669494, 0.97881356, 0.98093221, 0.98175183,\n",
       "       0.98292685, 0.98305085, 0.98516947, 0.98780489, 0.99512196])"
      ]
     },
     "execution_count": 10,
     "metadata": {},
     "output_type": "execute_result"
    }
   ],
   "source": [
    "np.sort(thres)[-20:]"
   ]
  },
  {
   "cell_type": "code",
   "execution_count": 11,
   "metadata": {},
   "outputs": [
    {
     "data": {
      "text/plain": [
       "array([0.72727272, 0.72727275, 0.73333335, 0.73516949, 0.73636365,\n",
       "       0.73809525, 0.74152543, 0.74364407, 0.74545455, 0.75      ,\n",
       "       0.75211862, 0.75238097, 0.75454548, 0.75806451, 0.76363638,\n",
       "       0.76666668, 0.7682927 , 0.77272728, 0.78095239, 0.78181818,\n",
       "       0.78292683, 0.78645834, 0.78832117, 0.79024389, 0.79025424,\n",
       "       0.79090911, 0.79512194, 0.79523811, 0.80291972, 0.81428573,\n",
       "       0.81770834, 0.82846716, 0.83576643, 0.86341465, 0.86363637,\n",
       "       0.86666667, 0.88321167, 0.89406779, 0.8941606 , 0.89512196,\n",
       "       0.90243903, 0.90731707, 0.90875912, 0.90889832, 0.91101697,\n",
       "       0.91313562, 0.91605839, 0.92335767, 0.93430656, 0.93658537,\n",
       "       0.94703388, 0.94890511, 0.95255476, 0.95550847, 0.95620438,\n",
       "       0.95762712, 0.95974576, 0.96398303, 0.97245765, 0.97445256,\n",
       "       0.97457629, 0.97669494, 0.97881356, 0.98093221, 0.98175183,\n",
       "       0.98292685, 0.98305085, 0.98516947, 0.98780489, 0.99512196])"
      ]
     },
     "execution_count": 11,
     "metadata": {},
     "output_type": "execute_result"
    }
   ],
   "source": [
    "np.sort(thres)[-70:]"
   ]
  },
  {
   "cell_type": "markdown",
   "metadata": {},
   "source": [
    "The model is capable of classifying better or with more detail low completion rate forms rather than high completion rate forms by analyzing these thresholds."
   ]
  },
  {
   "cell_type": "code",
   "execution_count": 12,
   "metadata": {},
   "outputs": [
    {
     "data": {
      "text/plain": [
       "13"
      ]
     },
     "execution_count": 12,
     "metadata": {},
     "output_type": "execute_result"
    }
   ],
   "source": [
    "model.estimators_[0].tree_.max_depth"
   ]
  },
  {
   "cell_type": "code",
   "execution_count": 16,
   "metadata": {},
   "outputs": [],
   "source": [
    "feats = df.columns[1:]"
   ]
  },
  {
   "cell_type": "code",
   "execution_count": 18,
   "metadata": {},
   "outputs": [
    {
     "data": {
      "text/plain": [
       "'04'"
      ]
     },
     "execution_count": 18,
     "metadata": {},
     "output_type": "execute_result"
    }
   ],
   "source": [
    "feats[1][5:7]"
   ]
  },
  {
   "cell_type": "code",
   "execution_count": 19,
   "metadata": {},
   "outputs": [
    {
     "data": {
      "text/plain": [
       "['f03',\n",
       " 'f04',\n",
       " 'f10',\n",
       " 'f12',\n",
       " 'f13',\n",
       " 'f15',\n",
       " 'f20',\n",
       " 'f24',\n",
       " 'f26',\n",
       " 'f27',\n",
       " 'f35',\n",
       " 'f37',\n",
       " 'f44',\n",
       " 'f02',\n",
       " 'f06',\n",
       " 'f07',\n",
       " 'f08',\n",
       " 'f09',\n",
       " 'f11',\n",
       " 'f16',\n",
       " 'f17',\n",
       " 'f21',\n",
       " 'f22',\n",
       " 'f23',\n",
       " 'f30',\n",
       " 'f33',\n",
       " 'f34',\n",
       " 'f41']"
      ]
     },
     "execution_count": 19,
     "metadata": {},
     "output_type": "execute_result"
    }
   ],
   "source": [
    "short_names = [\"f\"+x[5:7] for x in feats]\n",
    "short_names"
   ]
  },
  {
   "cell_type": "code",
   "execution_count": 20,
   "metadata": {},
   "outputs": [
    {
     "data": {
      "image/png": "[encoded data removed]",
      "text/plain": [
       "<Figure size 432x288 with 1 Axes>"
      ]
     },
     "metadata": {},
     "output_type": "display_data"
    }
   ],
   "source": [
    "import matplotlib.pyplot as plt\n",
    "from sklearn.tree import plot_tree \n",
    "plt.figure()\n",
    "# showing first 6 levels of the tree\n",
    "_ = plot_tree(model.estimators_[0], feature_names=short_names, filled=True, proportion=True, rounded=True, max_depth=6)\n",
    "plt.savefig('../data/first_6_levels.eps',format='eps',bbox_inches = \"tight\")"
   ]
  },
  {
   "cell_type": "markdown",
   "metadata": {},
   "source": [
    "With EPS Viewer you can scale the image and explore the details of the image. "
   ]
  },
  {
   "cell_type": "code",
   "execution_count": null,
   "metadata": {},
   "outputs": [],
   "source": []
  }
 ],
 "metadata": {
  "kernelspec": {
   "display_name": "Python 3",
   "language": "python",
   "name": "python3"
  },
  "language_info": {
   "codemirror_mode": {
    "name": "ipython",
    "version": 3
   },
   "file_extension": ".py",
   "mimetype": "text/x-python",
   "name": "python",
   "nbconvert_exporter": "python",
   "pygments_lexer": "ipython3",
   "version": "3.7.7"
  }
 },
 "nbformat": 4,
 "nbformat_minor": 2
}
