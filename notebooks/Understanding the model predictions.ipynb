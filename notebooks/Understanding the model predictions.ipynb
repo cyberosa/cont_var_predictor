{
 "cells": [
  {
   "cell_type": "code",
   "execution_count": 3,
   "metadata": {},
   "outputs": [],
   "source": [
    "import pandas as pd\n",
    "df = pd.read_pickle(\"../data/training_df\")"
   ]
  },
  {
   "cell_type": "code",
   "execution_count": 4,
   "metadata": {},
   "outputs": [
    {
     "data": {
      "text/html": [
       "<div>\n",
       "<style scoped>\n",
       "    .dataframe tbody tr th:only-of-type {\n",
       "        vertical-align: middle;\n",
       "    }\n",
       "\n",
       "    .dataframe tbody tr th {\n",
       "        vertical-align: top;\n",
       "    }\n",
       "\n",
       "    .dataframe thead th {\n",
       "        text-align: right;\n",
       "    }\n",
       "</style>\n",
       "<table border=\"1\" class=\"dataframe\">\n",
       "  <thead>\n",
       "    <tr style=\"text-align: right;\">\n",
       "      <th></th>\n",
       "      <th>cr</th>\n",
       "      <th>feat_04_syn</th>\n",
       "      <th>feat_20_syn</th>\n",
       "      <th>feat_26_syn</th>\n",
       "      <th>feat_15_syn</th>\n",
       "      <th>feat_35_syn</th>\n",
       "      <th>feat_10_syn</th>\n",
       "      <th>feat_12_syn</th>\n",
       "      <th>feat_13_syn</th>\n",
       "      <th>feat_24_syn</th>\n",
       "      <th>...</th>\n",
       "      <th>feat_22_mm</th>\n",
       "      <th>feat_23_mm</th>\n",
       "      <th>feat_30_mm</th>\n",
       "      <th>feat_33_mm</th>\n",
       "      <th>feat_34_mm</th>\n",
       "      <th>feat_36_mm</th>\n",
       "      <th>feat_38_mm</th>\n",
       "      <th>feat_40_mm</th>\n",
       "      <th>feat_41_mm</th>\n",
       "      <th>feat_47_mm</th>\n",
       "    </tr>\n",
       "  </thead>\n",
       "  <tbody>\n",
       "    <tr>\n",
       "      <th>0</th>\n",
       "      <td>0.818182</td>\n",
       "      <td>0</td>\n",
       "      <td>0</td>\n",
       "      <td>0</td>\n",
       "      <td>0</td>\n",
       "      <td>0</td>\n",
       "      <td>0</td>\n",
       "      <td>0</td>\n",
       "      <td>0</td>\n",
       "      <td>0</td>\n",
       "      <td>...</td>\n",
       "      <td>0.000000</td>\n",
       "      <td>0.009756</td>\n",
       "      <td>0.0</td>\n",
       "      <td>0.000000</td>\n",
       "      <td>0.000000</td>\n",
       "      <td>0.0</td>\n",
       "      <td>0.0</td>\n",
       "      <td>0.0</td>\n",
       "      <td>0.000000</td>\n",
       "      <td>0.001747</td>\n",
       "    </tr>\n",
       "    <tr>\n",
       "      <th>1</th>\n",
       "      <td>0.755102</td>\n",
       "      <td>0</td>\n",
       "      <td>0</td>\n",
       "      <td>0</td>\n",
       "      <td>0</td>\n",
       "      <td>0</td>\n",
       "      <td>0</td>\n",
       "      <td>0</td>\n",
       "      <td>0</td>\n",
       "      <td>0</td>\n",
       "      <td>...</td>\n",
       "      <td>0.000000</td>\n",
       "      <td>0.014634</td>\n",
       "      <td>0.0</td>\n",
       "      <td>0.000000</td>\n",
       "      <td>0.000000</td>\n",
       "      <td>0.0</td>\n",
       "      <td>0.0</td>\n",
       "      <td>0.0</td>\n",
       "      <td>0.000000</td>\n",
       "      <td>0.000000</td>\n",
       "    </tr>\n",
       "    <tr>\n",
       "      <th>2</th>\n",
       "      <td>0.257576</td>\n",
       "      <td>0</td>\n",
       "      <td>0</td>\n",
       "      <td>0</td>\n",
       "      <td>0</td>\n",
       "      <td>0</td>\n",
       "      <td>0</td>\n",
       "      <td>0</td>\n",
       "      <td>0</td>\n",
       "      <td>0</td>\n",
       "      <td>...</td>\n",
       "      <td>0.044776</td>\n",
       "      <td>0.039024</td>\n",
       "      <td>0.0</td>\n",
       "      <td>0.000000</td>\n",
       "      <td>0.000000</td>\n",
       "      <td>0.0</td>\n",
       "      <td>0.0</td>\n",
       "      <td>0.0</td>\n",
       "      <td>0.000000</td>\n",
       "      <td>0.026201</td>\n",
       "    </tr>\n",
       "    <tr>\n",
       "      <th>3</th>\n",
       "      <td>0.381818</td>\n",
       "      <td>0</td>\n",
       "      <td>0</td>\n",
       "      <td>0</td>\n",
       "      <td>0</td>\n",
       "      <td>0</td>\n",
       "      <td>0</td>\n",
       "      <td>0</td>\n",
       "      <td>0</td>\n",
       "      <td>0</td>\n",
       "      <td>...</td>\n",
       "      <td>0.014925</td>\n",
       "      <td>0.024390</td>\n",
       "      <td>0.0</td>\n",
       "      <td>0.009524</td>\n",
       "      <td>0.010417</td>\n",
       "      <td>0.0</td>\n",
       "      <td>0.0</td>\n",
       "      <td>0.0</td>\n",
       "      <td>0.007407</td>\n",
       "      <td>0.006114</td>\n",
       "    </tr>\n",
       "    <tr>\n",
       "      <th>4</th>\n",
       "      <td>0.870968</td>\n",
       "      <td>0</td>\n",
       "      <td>0</td>\n",
       "      <td>0</td>\n",
       "      <td>0</td>\n",
       "      <td>0</td>\n",
       "      <td>0</td>\n",
       "      <td>0</td>\n",
       "      <td>0</td>\n",
       "      <td>0</td>\n",
       "      <td>...</td>\n",
       "      <td>0.000000</td>\n",
       "      <td>0.019512</td>\n",
       "      <td>0.0</td>\n",
       "      <td>0.000000</td>\n",
       "      <td>0.000000</td>\n",
       "      <td>0.0</td>\n",
       "      <td>0.0</td>\n",
       "      <td>0.0</td>\n",
       "      <td>0.000000</td>\n",
       "      <td>0.018341</td>\n",
       "    </tr>\n",
       "  </tbody>\n",
       "</table>\n",
       "<p>5 rows × 34 columns</p>\n",
       "</div>"
      ],
      "text/plain": [
       "         cr  feat_04_syn  feat_20_syn  feat_26_syn  feat_15_syn  feat_35_syn  \\\n",
       "0  0.818182            0            0            0            0            0   \n",
       "1  0.755102            0            0            0            0            0   \n",
       "2  0.257576            0            0            0            0            0   \n",
       "3  0.381818            0            0            0            0            0   \n",
       "4  0.870968            0            0            0            0            0   \n",
       "\n",
       "   feat_10_syn  feat_12_syn  feat_13_syn  feat_24_syn  ...  feat_22_mm  \\\n",
       "0            0            0            0            0  ...    0.000000   \n",
       "1            0            0            0            0  ...    0.000000   \n",
       "2            0            0            0            0  ...    0.044776   \n",
       "3            0            0            0            0  ...    0.014925   \n",
       "4            0            0            0            0  ...    0.000000   \n",
       "\n",
       "   feat_23_mm  feat_30_mm  feat_33_mm  feat_34_mm  feat_36_mm  feat_38_mm  \\\n",
       "0    0.009756         0.0    0.000000    0.000000         0.0         0.0   \n",
       "1    0.014634         0.0    0.000000    0.000000         0.0         0.0   \n",
       "2    0.039024         0.0    0.000000    0.000000         0.0         0.0   \n",
       "3    0.024390         0.0    0.009524    0.010417         0.0         0.0   \n",
       "4    0.019512         0.0    0.000000    0.000000         0.0         0.0   \n",
       "\n",
       "   feat_40_mm  feat_41_mm  feat_47_mm  \n",
       "0         0.0    0.000000    0.001747  \n",
       "1         0.0    0.000000    0.000000  \n",
       "2         0.0    0.000000    0.026201  \n",
       "3         0.0    0.007407    0.006114  \n",
       "4         0.0    0.000000    0.018341  \n",
       "\n",
       "[5 rows x 34 columns]"
      ]
     },
     "execution_count": 4,
     "metadata": {},
     "output_type": "execute_result"
    }
   ],
   "source": [
    "df.head()"
   ]
  },
  {
   "cell_type": "code",
   "execution_count": 5,
   "metadata": {},
   "outputs": [
    {
     "data": {
      "text/plain": [
       "cr             0.818182\n",
       "feat_04_syn    0.000000\n",
       "feat_20_syn    0.000000\n",
       "feat_26_syn    0.000000\n",
       "feat_15_syn    0.000000\n",
       "feat_35_syn    0.000000\n",
       "feat_10_syn    0.000000\n",
       "feat_12_syn    0.000000\n",
       "feat_13_syn    0.000000\n",
       "feat_24_syn    0.000000\n",
       "feat_37_syn    0.000000\n",
       "feat_03_syn    0.000000\n",
       "feat_44_syn    0.000000\n",
       "feat_27_syn    0.000000\n",
       "feat_02_mm     0.000000\n",
       "feat_06_mm     0.000000\n",
       "feat_07_mm     0.008065\n",
       "feat_08_mm     0.000000\n",
       "feat_09_mm     0.006061\n",
       "feat_11_mm     0.000000\n",
       "feat_16_mm     0.000000\n",
       "feat_17_mm     0.000000\n",
       "feat_19_mm     0.000000\n",
       "feat_21_mm     0.008475\n",
       "feat_22_mm     0.000000\n",
       "feat_23_mm     0.009756\n",
       "feat_30_mm     0.000000\n",
       "feat_33_mm     0.000000\n",
       "feat_34_mm     0.000000\n",
       "feat_36_mm     0.000000\n",
       "feat_38_mm     0.000000\n",
       "feat_40_mm     0.000000\n",
       "feat_41_mm     0.000000\n",
       "feat_47_mm     0.001747\n",
       "Name: 0, dtype: float64"
      ]
     },
     "execution_count": 5,
     "metadata": {},
     "output_type": "execute_result"
    }
   ],
   "source": [
    "df.iloc[0,:]"
   ]
  },
  {
   "cell_type": "code",
   "execution_count": 31,
   "metadata": {},
   "outputs": [
    {
     "data": {
      "text/plain": [
       "[0.8181818181818182,\n",
       " 0.0,\n",
       " 0.0,\n",
       " 0.0,\n",
       " 0.0,\n",
       " 0.0,\n",
       " 0.0,\n",
       " 0.0,\n",
       " 0.0,\n",
       " 0.0,\n",
       " 0.0,\n",
       " 0.0,\n",
       " 0.0,\n",
       " 0.0,\n",
       " 0.0,\n",
       " 0.0,\n",
       " 0.008064516129032258,\n",
       " 0.0,\n",
       " 0.006060606060606061,\n",
       " 0.0,\n",
       " 0.0,\n",
       " 0.0,\n",
       " 0.0,\n",
       " 0.00847457627118644,\n",
       " 0.0,\n",
       " 0.00975609756097561,\n",
       " 0.0,\n",
       " 0.0,\n",
       " 0.0,\n",
       " 0.0,\n",
       " 0.0,\n",
       " 0.0,\n",
       " 0.0,\n",
       " 0.0017467248908296944]"
      ]
     },
     "execution_count": 31,
     "metadata": {},
     "output_type": "execute_result"
    }
   ],
   "source": [
    "df.iloc[0,:].to_list()"
   ]
  },
  {
   "cell_type": "code",
   "execution_count": 11,
   "metadata": {},
   "outputs": [],
   "source": [
    "import joblib"
   ]
  },
  {
   "cell_type": "code",
   "execution_count": 13,
   "metadata": {},
   "outputs": [
    {
     "name": "stderr",
     "output_type": "stream",
     "text": [
      "C:\\Users\\ARosa\\Miniconda3\\lib\\site-packages\\sklearn\\base.py:315: UserWarning: Trying to unpickle estimator DecisionTreeRegressor from version 0.23.2 when using version 0.24.1. This might lead to breaking code or invalid results. Use at your own risk.\n",
      "  UserWarning)\n",
      "C:\\Users\\ARosa\\Miniconda3\\lib\\site-packages\\sklearn\\base.py:315: UserWarning: Trying to unpickle estimator RandomForestRegressor from version 0.23.2 when using version 0.24.1. This might lead to breaking code or invalid results. Use at your own risk.\n",
      "  UserWarning)\n"
     ]
    }
   ],
   "source": [
    "model = joblib.load('../models/rfr_model.joblib')"
   ]
  },
  {
   "cell_type": "code",
   "execution_count": 25,
   "metadata": {},
   "outputs": [
    {
     "data": {
      "text/plain": [
       "<matplotlib.axes._subplots.AxesSubplot at 0x220b771e7c8>"
      ]
     },
     "execution_count": 25,
     "metadata": {},
     "output_type": "execute_result"
    },
    {
     "data": {
      "image/png": "[encoded data removed]",
      "text/plain": [
       "<Figure size 432x288 with 1 Axes>"
      ]
     },
     "metadata": {},
     "output_type": "display_data"
    }
   ],
   "source": [
    "import seaborn as sns\n",
    "sns.set(style=\"darkgrid\", palette=\"rocket\")\n",
    "sns.distplot(df.cr)"
   ]
  },
  {
   "cell_type": "code",
   "execution_count": 29,
   "metadata": {},
   "outputs": [
    {
     "data": {
      "text/plain": [
       "629663"
      ]
     },
     "execution_count": 29,
     "metadata": {},
     "output_type": "execute_result"
    }
   ],
   "source": [
    "sum(df.cr < 0.60)"
   ]
  },
  {
   "cell_type": "code",
   "execution_count": 30,
   "metadata": {},
   "outputs": [
    {
     "data": {
      "text/plain": [
       "395050"
      ]
     },
     "execution_count": 30,
     "metadata": {},
     "output_type": "execute_result"
    }
   ],
   "source": [
    "sum(df.cr > 0.60)"
   ]
  },
  {
   "cell_type": "code",
   "execution_count": 14,
   "metadata": {},
   "outputs": [
    {
     "data": {
      "text/plain": [
       "array([0.33050847, 0.34110171, 0.35365853, 0.3707317 , 0.41707316,\n",
       "       0.42105262, 0.42682926, 0.44146341, 0.5       , 0.63347459])"
      ]
     },
     "execution_count": 14,
     "metadata": {},
     "output_type": "execute_result"
    }
   ],
   "source": [
    "import numpy as np\n",
    "thres = np.unique([j for i in model.estimators_ for j in i.tree_.threshold])\n",
    "np.sort(thres)[-10:]"
   ]
  },
  {
   "cell_type": "code",
   "execution_count": 21,
   "metadata": {},
   "outputs": [
    {
     "data": {
      "text/plain": [
       "array([0.26666667, 0.2707317 , 0.27317072, 0.28292683, 0.28536585,\n",
       "       0.29756097, 0.3029661 , 0.30508475, 0.30645162, 0.31567797,\n",
       "       0.33050847, 0.34110171, 0.35365853, 0.3707317 , 0.41707316,\n",
       "       0.42105262, 0.42682926, 0.44146341, 0.5       , 0.63347459])"
      ]
     },
     "execution_count": 21,
     "metadata": {},
     "output_type": "execute_result"
    }
   ],
   "source": [
    "np.sort(thres)[-20:]"
   ]
  },
  {
   "cell_type": "code",
   "execution_count": 24,
   "metadata": {},
   "outputs": [
    {
     "data": {
      "text/plain": [
       "array([0.11842106, 0.12076271, 0.12096774, 0.12227074, 0.12288136,\n",
       "       0.12313433, 0.125     , 0.13056769, 0.13231441, 0.13333334,\n",
       "       0.13771187, 0.13805971, 0.14104804, 0.14179105, 0.14473684,\n",
       "       0.14552239, 0.14878049, 0.15121951, 0.15365854, 0.15625   ,\n",
       "       0.15714286, 0.15853659, 0.16044776, 0.16060606, 0.16097561,\n",
       "       0.16341463, 0.16666667, 0.16788321, 0.17073171, 0.17153285,\n",
       "       0.17317073, 0.17560976, 0.1804878 , 0.18095239, 0.18248175,\n",
       "       0.18292683, 0.18536586, 0.18855932, 0.19402985, 0.2       ,\n",
       "       0.20127118, 0.20149254, 0.20522388, 0.20895522, 0.20909091,\n",
       "       0.21774193, 0.23333334, 0.24364407, 0.24576271, 0.26059322,\n",
       "       0.26666667, 0.2707317 , 0.27317072, 0.28292683, 0.28536585,\n",
       "       0.29756097, 0.3029661 , 0.30508475, 0.30645162, 0.31567797,\n",
       "       0.33050847, 0.34110171, 0.35365853, 0.3707317 , 0.41707316,\n",
       "       0.42105262, 0.42682926, 0.44146341, 0.5       , 0.63347459])"
      ]
     },
     "execution_count": 24,
     "metadata": {},
     "output_type": "execute_result"
    }
   ],
   "source": [
    "np.sort(thres)[-70:]"
   ]
  },
  {
   "cell_type": "markdown",
   "metadata": {},
   "source": [
    "The model is capable of classifying better or with more detail low completion rate forms rather than high completion rate forms by analyzing these thresholds."
   ]
  },
  {
   "cell_type": "code",
   "execution_count": 38,
   "metadata": {},
   "outputs": [
    {
     "data": {
      "text/plain": [
       "6"
      ]
     },
     "execution_count": 38,
     "metadata": {},
     "output_type": "execute_result"
    }
   ],
   "source": [
    "model.estimators_[0].tree_.max_depth"
   ]
  },
  {
   "cell_type": "code",
   "execution_count": 40,
   "metadata": {},
   "outputs": [
    {
     "data": {
      "image/png": "[encoded data removed]",
      "text/plain": [
       "<Figure size 432x288 with 1 Axes>"
      ]
     },
     "metadata": {},
     "output_type": "display_data"
    }
   ],
   "source": [
    "import matplotlib.pyplot as plt\n",
    "from sklearn.tree import plot_tree \n",
    "plt.figure()\n",
    "features = df.columns[1:]\n",
    "_ = plot_tree(model.estimators_[0], feature_names=features, filled=True)\n",
    "plt.savefig('../data/one_tree.eps',format='eps',bbox_inches = \"tight\")"
   ]
  },
  {
   "cell_type": "code",
   "execution_count": 43,
   "metadata": {},
   "outputs": [
    {
     "data": {
      "image/png": "[encoded data removed]",
      "text/plain": [
       "<Figure size 432x288 with 1 Axes>"
      ]
     },
     "metadata": {},
     "output_type": "display_data"
    }
   ],
   "source": [
    "_ = plot_tree(model.estimators_[1], feature_names=features, filled=True)\n",
    "plt.savefig('../data/second_tree.eps',format='eps')"
   ]
  },
  {
   "cell_type": "code",
   "execution_count": null,
   "metadata": {},
   "outputs": [],
   "source": []
  }
 ],
 "metadata": {
  "kernelspec": {
   "display_name": "Python 3",
   "language": "python",
   "name": "python3"
  },
  "language_info": {
   "codemirror_mode": {
    "name": "ipython",
    "version": 3
   },
   "file_extension": ".py",
   "mimetype": "text/x-python",
   "name": "python",
   "nbconvert_exporter": "python",
   "pygments_lexer": "ipython3",
   "version": "3.7.7"
  }
 },
 "nbformat": 4,
 "nbformat_minor": 2
}
